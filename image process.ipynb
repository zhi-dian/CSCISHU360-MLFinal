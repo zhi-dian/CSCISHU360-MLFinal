{
 "cells": [
  {
   "cell_type": "code",
   "execution_count": null,
   "metadata": {},
   "outputs": [],
   "source": [
    "import cv2\n",
    "import os\n",
    "\n",
    "\n",
    "#350 525\n",
    "img = cv2.imread() # 获取图像数据，例如通过 OpenCV 的 imread() 函数读取\n",
    "params = [cv2.IMWRITE_PNG_COMPRESSION, 9] # 设置 PNG 压缩质量为 9\n",
    "cv2.imwrite('output.png', img, params)\n",
    "imhg_path\n",
    "\n",
    "def get_img(x, folder: str = \"train_images_525/train_images_525\"):\n",
    "    \"\"\"\n",
    "    Return image based on image name and folder.\n",
    "    \"\"\"\n",
    "    data_folder = f\"{img_paths}/{folder}\"\n",
    "    image_path = os.path.join(data_folder, x)\n",
    "    img = cv2.imread(image_path)\n",
    "    return img"
   ]
  }
 ],
 "metadata": {
  "language_info": {
   "name": "python"
  },
  "orig_nbformat": 4
 },
 "nbformat": 4,
 "nbformat_minor": 2
}
